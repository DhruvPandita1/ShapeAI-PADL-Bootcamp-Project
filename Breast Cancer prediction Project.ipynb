{
  "nbformat": 4,
  "nbformat_minor": 0,
  "metadata": {
    "colab": {
      "name": "Dhruv Pandita.ipynb",
      "provenance": []
    },
    "kernelspec": {
      "name": "python3",
      "display_name": "Python 3"
    },
    "language_info": {
      "name": "python"
    }
  },
  "cells": [
    {
      "cell_type": "code",
      "metadata": {
        "id": "qnaRO8bcRM0x"
      },
      "source": [
        "#Importing dataset\n",
        "from sklearn.datasets import load_breast_cancer\n",
        "Project = load_breast_cancer()\n",
        "\n",
        "features = Project.data\n",
        "target = Project.target\n",
        "\n",
        "from sklearn.model_selection import  train_test_split\n",
        "x_train, x_test, y_train, y_test = train_test_split(features, target, test_size = 0.2)"
      ],
      "execution_count": 8,
      "outputs": []
    },
    {
      "cell_type": "code",
      "metadata": {
        "id": "70C-877FRNsq"
      },
      "source": [
        "#Creating Neural Network\n",
        "from keras.models import Sequential\n",
        "from keras.layers import Dense\n",
        "\n",
        "model = Sequential()\n",
        "model.add(Dense(32, input_dim = 30, activation = 'relu'))\n",
        "model.add(Dense(64, activation = 'relu'))\n",
        "model.add(Dense(1, activation = 'sigmoid'))\n",
        "model.compile(loss = 'binary_crossentropy', optimizer = 'adam', metrics = ['accuracy'])"
      ],
      "execution_count": 13,
      "outputs": []
    },
    {
      "cell_type": "code",
      "metadata": {
        "id": "koJ8O-mERPo4"
      },
      "source": [
        "#Overall View\n",
        "print(\"Train features and target :\")\n",
        "print(x_train.shape, y_train.shape)\n",
        "print(\"Test features and target :\")\n",
        "print(x_test.shape, y_test.shape)\n",
        "\n",
        "model.summary()"
      ],
      "execution_count": 14,
      "outputs": []
    },
    {
      "cell_type": "code",
      "metadata": {
        "id": "d_gNq_NXRSJq"
      },
      "source": [
        "#Train the network\n",
        "model.fit(x_train, y_train, epochs = 150)"
      ],
      "execution_count": 15,
      "outputs": []
    },
    {
      "cell_type": "code",
      "metadata": {
        "id": "krr3Bx39RUDx"
      },
      "source": [
        "#Test the network\n",
        "result = model.evaluate(x_test, y_test)\n",
        "print(result)"
      ],
      "execution_count": 16,
      "outputs": []
    },
    {
      "cell_type": "code",
      "metadata": {
        "id": "c0SMT9yBRdQ4"
      },
      "source": [
        "#End result\n",
        "values = model.predict(x_test)\n",
        "label = []\n",
        "for prediction in values :\n",
        "  if prediction >= 0.5 :\n",
        "    print(\"Malignent\")\n",
        "  else :\n",
        "    print(\"Benign\")"
      ],
      "execution_count": 17,
      "outputs": []
    }
  ]
}
